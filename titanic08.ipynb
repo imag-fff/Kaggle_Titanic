{
 "cells": [
  {
   "cell_type": "markdown",
   "metadata": {},
   "source": [
    "# 正規化、標準化、MLPの追加"
   ]
  },
  {
   "cell_type": "markdown",
   "metadata": {},
   "source": [
    "### 正規化と標準化の使い分け"
   ]
  },
  {
   "cell_type": "markdown",
   "metadata": {},
   "source": [
    "<a href=https://qiita.com/ttskng/items/2a33c1ca925e4501e609>Feature Scalingはなぜ必要？</a>"
   ]
  },
  {
   "cell_type": "markdown",
   "metadata": {},
   "source": [
    "> 基本は標準化を用います。理由は、正規化の場合、外れ値が大きく影響してしまうためです。ただし、画像データの場合は学習コストを下げるため、[0,1]の範囲に収まるよう255.0で割ることで正規化するのが一般的です。\n",
    ">\n",
    "> 正規化を使うとき:\n",
    "> - 画像処理におけるRGBの強さ[0,255]\n",
    "> - sigmoid, tanhなどの活性化関数を用いる、NNのいくつかのモデル\n",
    ">\n",
    "> 標準化を使うとき:\n",
    "> - ロジスティック回帰、SVM、NNなど勾配法を用いたモデル\n",
    "> - kNN, k-meansなどの距離を用いるモデル\n",
    "> - PCA, LDA(潜在的ディリクレ配分法), kernel PCA などのfeature extractionの手法\n",
    ">\n",
    "> 使わないとき:\n",
    "> - 決定木、ランダムフォレスト"
   ]
  },
  {
   "cell_type": "code",
   "execution_count": 1,
   "metadata": {},
   "outputs": [],
   "source": [
    "import pandas as pd\n",
    "import numpy as np\n",
    "import matplotlib.pyplot as plt\n",
    "import seaborn as sns"
   ]
  },
  {
   "cell_type": "code",
   "execution_count": 2,
   "metadata": {},
   "outputs": [],
   "source": [
    "data = pd.read_csv(\"train.csv\")\n",
    "test = pd.read_csv(\"test.csv\")"
   ]
  },
  {
   "cell_type": "markdown",
   "metadata": {},
   "source": [
    "# 前処理(前回と同じにする)"
   ]
  },
  {
   "cell_type": "code",
   "execution_count": 3,
   "metadata": {},
   "outputs": [],
   "source": [
    "middle = data[\"Name\"].str.split(\", \", expand=True)\n",
    "middle = middle[1].str.split(\".\", expand=True)\n",
    "data[\"Middle\"] = middle[0]\n",
    "data.loc[(data[\"Middle\"] != \"Mr\") \n",
    "         & (data[\"Middle\"] != \"Mrs\") \n",
    "         & (data[\"Middle\"] != \"Miss\") \n",
    "         & (data[\"Middle\"] != \"Master\"), \"Middle\"] = \"Other\"\n",
    "data.loc[(data[\"Middle\"] == \"Other\") \n",
    "         & (data[\"Age\"] < data.loc[data[\"Middle\"] == \"Other\", \"Age\"].dropna().median()), \"Middle\"] = \"Other_pre\"\n",
    "data.loc[(data[\"Middle\"] == \"Other\"), \"Middle\"] = \"Other_post\"\n",
    "data.loc[data[\"Age\"].isnull(), [\"Middle\", \"Age\"]]\n",
    "for middle in [\"Mr\", \"Mrs\", \"Miss\", \"Master\", \"Other_pre\", \"Other_post\"]:\n",
    "    data.loc[(data[\"Age\"].isnull()) & (data[\"Middle\"] == middle), \"Age\"] = data.loc[\n",
    "        data[\"Middle\"] == middle, \"Age\"].dropna().median()"
   ]
  },
  {
   "cell_type": "code",
   "execution_count": 4,
   "metadata": {},
   "outputs": [],
   "source": [
    "data.loc[(data[\"Middle\"] == \"Mr\") & (data[\"Sex\"] == \"male\"), \"Sex\"] = \"Mr\"\n",
    "data.loc[(data[\"Middle\"] != \"Mr\") & (data[\"Sex\"] == \"male\"), \"Sex\"] = \"notMr\""
   ]
  },
  {
   "cell_type": "markdown",
   "metadata": {},
   "source": [
    "### テストデータに対しても同じ操作を行う(補完に関しては前回と同じ)"
   ]
  },
  {
   "cell_type": "code",
   "execution_count": 5,
   "metadata": {},
   "outputs": [],
   "source": [
    "middle = test[\"Name\"].str.split(\", \", expand=True)\n",
    "middle = middle[1].str.split(\".\", expand=True)\n",
    "test[\"Middle\"] = middle[0]\n",
    "test.loc[(test[\"Middle\"] != \"Mr\") \n",
    "         & (test[\"Middle\"] != \"Mrs\") \n",
    "         & (test[\"Middle\"] != \"Miss\") \n",
    "         & (test[\"Middle\"] != \"Master\"), \"Middle\"] = \"Other\"\n",
    "test.loc[(test[\"Middle\"] == \"Other\") \n",
    "         & (test[\"Age\"] < test.loc[test[\"Middle\"] == \"Other\", \"Age\"].dropna().median()), \"Middle\"] = \"Other_pre\"\n",
    "test.loc[(test[\"Middle\"] == \"Other\"), \"Middle\"] = \"Other_post\"\n",
    "test.loc[test[\"Age\"].isnull(), [\"Middle\", \"Age\"]]\n",
    "for middle in [\"Mr\", \"Mrs\", \"Miss\", \"Master\", \"Other_pre\", \"Other_post\"]:\n",
    "    test.loc[(test[\"Age\"].isnull()) & (test[\"Middle\"] == middle), \"Age\"] = test.loc[\n",
    "        test[\"Middle\"] == middle, \"Age\"].dropna().median()\n",
    "test[\"Fare\"] = test[\"Fare\"].fillna(test.loc[test[\"Middle\"] == \"Mr\", \"Fare\"].dropna().median())\n",
    "test.loc[(test[\"Middle\"] == \"Mr\") & (test[\"Sex\"] == \"male\"), \"Sex\"] = \"Mr\"\n",
    "test.loc[(test[\"Middle\"] != \"Mr\") & (test[\"Sex\"] == \"male\"), \"Sex\"] = \"notMr\""
   ]
  },
  {
   "cell_type": "markdown",
   "metadata": {},
   "source": [
    "# SibSpの処理"
   ]
  },
  {
   "cell_type": "markdown",
   "metadata": {},
   "source": [
    "- 0,1のデータだと勘違いしてた"
   ]
  },
  {
   "cell_type": "code",
   "execution_count": 6,
   "metadata": {
    "scrolled": true
   },
   "outputs": [
    {
     "data": {
      "text/plain": [
       "(array([608., 209.,  28.,  16.,   0.,  18.,   5.,   0.,   0.,   7.]),\n",
       " array([0. , 0.8, 1.6, 2.4, 3.2, 4. , 4.8, 5.6, 6.4, 7.2, 8. ]),\n",
       " <a list of 10 Patch objects>)"
      ]
     },
     "execution_count": 6,
     "metadata": {},
     "output_type": "execute_result"
    },
    {
     "data": {
      "image/png": "[encoded data removed]",
      "text/plain": [
       "<Figure size 432x288 with 1 Axes>"
      ]
     },
     "metadata": {
      "needs_background": "light"
     },
     "output_type": "display_data"
    }
   ],
   "source": [
    "plt.hist(data[\"SibSp\"])"
   ]
  },
  {
   "cell_type": "markdown",
   "metadata": {},
   "source": [
    "- 2以上を一つにまとめる"
   ]
  },
  {
   "cell_type": "code",
   "execution_count": 7,
   "metadata": {},
   "outputs": [],
   "source": [
    "data.loc[data[\"SibSp\"] > 1.5, \"SibSp\"] = 3\n",
    "test.loc[test[\"SibSp\"] > 1.5, \"SibSp\"] = 3"
   ]
  },
  {
   "cell_type": "markdown",
   "metadata": {},
   "source": [
    "# X, yに分ける"
   ]
  },
  {
   "cell_type": "code",
   "execution_count": 8,
   "metadata": {},
   "outputs": [
    {
     "data": {
      "text/html": [
       "<div>\n",
       "<style scoped>\n",
       "    .dataframe tbody tr th:only-of-type {\n",
       "        vertical-align: middle;\n",
       "    }\n",
       "\n",
       "    .dataframe tbody tr th {\n",
       "        vertical-align: top;\n",
       "    }\n",
       "\n",
       "    .dataframe thead th {\n",
       "        text-align: right;\n",
       "    }\n",
       "</style>\n",
       "<table border=\"1\" class=\"dataframe\">\n",
       "  <thead>\n",
       "    <tr style=\"text-align: right;\">\n",
       "      <th></th>\n",
       "      <th>PassengerId</th>\n",
       "      <th>Survived</th>\n",
       "      <th>Pclass</th>\n",
       "      <th>Name</th>\n",
       "      <th>Sex</th>\n",
       "      <th>Age</th>\n",
       "      <th>SibSp</th>\n",
       "      <th>Parch</th>\n",
       "      <th>Ticket</th>\n",
       "      <th>Fare</th>\n",
       "      <th>Cabin</th>\n",
       "      <th>Embarked</th>\n",
       "      <th>Middle</th>\n",
       "    </tr>\n",
       "  </thead>\n",
       "  <tbody>\n",
       "    <tr>\n",
       "      <th>0</th>\n",
       "      <td>1</td>\n",
       "      <td>0</td>\n",
       "      <td>3</td>\n",
       "      <td>Braund, Mr. Owen Harris</td>\n",
       "      <td>Mr</td>\n",
       "      <td>22.0</td>\n",
       "      <td>1</td>\n",
       "      <td>0</td>\n",
       "      <td>A/5 21171</td>\n",
       "      <td>7.2500</td>\n",
       "      <td>NaN</td>\n",
       "      <td>S</td>\n",
       "      <td>Mr</td>\n",
       "    </tr>\n",
       "    <tr>\n",
       "      <th>1</th>\n",
       "      <td>2</td>\n",
       "      <td>1</td>\n",
       "      <td>1</td>\n",
       "      <td>Cumings, Mrs. John Bradley (Florence Briggs Th...</td>\n",
       "      <td>female</td>\n",
       "      <td>38.0</td>\n",
       "      <td>1</td>\n",
       "      <td>0</td>\n",
       "      <td>PC 17599</td>\n",
       "      <td>71.2833</td>\n",
       "      <td>C85</td>\n",
       "      <td>C</td>\n",
       "      <td>Mrs</td>\n",
       "    </tr>\n",
       "    <tr>\n",
       "      <th>2</th>\n",
       "      <td>3</td>\n",
       "      <td>1</td>\n",
       "      <td>3</td>\n",
       "      <td>Heikkinen, Miss. Laina</td>\n",
       "      <td>female</td>\n",
       "      <td>26.0</td>\n",
       "      <td>0</td>\n",
       "      <td>0</td>\n",
       "      <td>STON/O2. 3101282</td>\n",
       "      <td>7.9250</td>\n",
       "      <td>NaN</td>\n",
       "      <td>S</td>\n",
       "      <td>Miss</td>\n",
       "    </tr>\n",
       "    <tr>\n",
       "      <th>3</th>\n",
       "      <td>4</td>\n",
       "      <td>1</td>\n",
       "      <td>1</td>\n",
       "      <td>Futrelle, Mrs. Jacques Heath (Lily May Peel)</td>\n",
       "      <td>female</td>\n",
       "      <td>35.0</td>\n",
       "      <td>1</td>\n",
       "      <td>0</td>\n",
       "      <td>113803</td>\n",
       "      <td>53.1000</td>\n",
       "      <td>C123</td>\n",
       "      <td>S</td>\n",
       "      <td>Mrs</td>\n",
       "    </tr>\n",
       "    <tr>\n",
       "      <th>4</th>\n",
       "      <td>5</td>\n",
       "      <td>0</td>\n",
       "      <td>3</td>\n",
       "      <td>Allen, Mr. William Henry</td>\n",
       "      <td>Mr</td>\n",
       "      <td>35.0</td>\n",
       "      <td>0</td>\n",
       "      <td>0</td>\n",
       "      <td>373450</td>\n",
       "      <td>8.0500</td>\n",
       "      <td>NaN</td>\n",
       "      <td>S</td>\n",
       "      <td>Mr</td>\n",
       "    </tr>\n",
       "  </tbody>\n",
       "</table>\n",
       "</div>"
      ],
      "text/plain": [
       "   PassengerId  Survived  Pclass  \\\n",
       "0            1         0       3   \n",
       "1            2         1       1   \n",
       "2            3         1       3   \n",
       "3            4         1       1   \n",
       "4            5         0       3   \n",
       "\n",
       "                                                Name     Sex   Age  SibSp  \\\n",
       "0                            Braund, Mr. Owen Harris      Mr  22.0      1   \n",
       "1  Cumings, Mrs. John Bradley (Florence Briggs Th...  female  38.0      1   \n",
       "2                             Heikkinen, Miss. Laina  female  26.0      0   \n",
       "3       Futrelle, Mrs. Jacques Heath (Lily May Peel)  female  35.0      1   \n",
       "4                           Allen, Mr. William Henry      Mr  35.0      0   \n",
       "\n",
       "   Parch            Ticket     Fare Cabin Embarked Middle  \n",
       "0      0         A/5 21171   7.2500   NaN        S     Mr  \n",
       "1      0          PC 17599  71.2833   C85        C    Mrs  \n",
       "2      0  STON/O2. 3101282   7.9250   NaN        S   Miss  \n",
       "3      0            113803  53.1000  C123        S    Mrs  \n",
       "4      0            373450   8.0500   NaN        S     Mr  "
      ]
     },
     "execution_count": 8,
     "metadata": {},
     "output_type": "execute_result"
    }
   ],
   "source": [
    "data.head()"
   ]
  },
  {
   "cell_type": "code",
   "execution_count": 9,
   "metadata": {},
   "outputs": [],
   "source": [
    "X = data.drop([\"PassengerId\", \"Survived\", \"Name\", \"Ticket\", \"Cabin\", \"Embarked\", \"Middle\"], axis=1)\n",
    "y = data[\"Survived\"]\n",
    "X_test = test.drop([\"PassengerId\", \"Name\", \"Ticket\", \"Cabin\", \"Embarked\", \"Middle\"], axis=1)"
   ]
  },
  {
   "cell_type": "code",
   "execution_count": 10,
   "metadata": {
    "scrolled": true
   },
   "outputs": [
    {
     "data": {
      "text/html": [
       "<div>\n",
       "<style scoped>\n",
       "    .dataframe tbody tr th:only-of-type {\n",
       "        vertical-align: middle;\n",
       "    }\n",
       "\n",
       "    .dataframe tbody tr th {\n",
       "        vertical-align: top;\n",
       "    }\n",
       "\n",
       "    .dataframe thead th {\n",
       "        text-align: right;\n",
       "    }\n",
       "</style>\n",
       "<table border=\"1\" class=\"dataframe\">\n",
       "  <thead>\n",
       "    <tr style=\"text-align: right;\">\n",
       "      <th></th>\n",
       "      <th>Pclass</th>\n",
       "      <th>Sex</th>\n",
       "      <th>Age</th>\n",
       "      <th>SibSp</th>\n",
       "      <th>Parch</th>\n",
       "      <th>Fare</th>\n",
       "    </tr>\n",
       "  </thead>\n",
       "  <tbody>\n",
       "    <tr>\n",
       "      <th>0</th>\n",
       "      <td>3</td>\n",
       "      <td>Mr</td>\n",
       "      <td>22.0</td>\n",
       "      <td>1</td>\n",
       "      <td>0</td>\n",
       "      <td>7.2500</td>\n",
       "    </tr>\n",
       "    <tr>\n",
       "      <th>1</th>\n",
       "      <td>1</td>\n",
       "      <td>female</td>\n",
       "      <td>38.0</td>\n",
       "      <td>1</td>\n",
       "      <td>0</td>\n",
       "      <td>71.2833</td>\n",
       "    </tr>\n",
       "    <tr>\n",
       "      <th>2</th>\n",
       "      <td>3</td>\n",
       "      <td>female</td>\n",
       "      <td>26.0</td>\n",
       "      <td>0</td>\n",
       "      <td>0</td>\n",
       "      <td>7.9250</td>\n",
       "    </tr>\n",
       "    <tr>\n",
       "      <th>3</th>\n",
       "      <td>1</td>\n",
       "      <td>female</td>\n",
       "      <td>35.0</td>\n",
       "      <td>1</td>\n",
       "      <td>0</td>\n",
       "      <td>53.1000</td>\n",
       "    </tr>\n",
       "    <tr>\n",
       "      <th>4</th>\n",
       "      <td>3</td>\n",
       "      <td>Mr</td>\n",
       "      <td>35.0</td>\n",
       "      <td>0</td>\n",
       "      <td>0</td>\n",
       "      <td>8.0500</td>\n",
       "    </tr>\n",
       "  </tbody>\n",
       "</table>\n",
       "</div>"
      ],
      "text/plain": [
       "   Pclass     Sex   Age  SibSp  Parch     Fare\n",
       "0       3      Mr  22.0      1      0   7.2500\n",
       "1       1  female  38.0      1      0  71.2833\n",
       "2       3  female  26.0      0      0   7.9250\n",
       "3       1  female  35.0      1      0  53.1000\n",
       "4       3      Mr  35.0      0      0   8.0500"
      ]
     },
     "execution_count": 10,
     "metadata": {},
     "output_type": "execute_result"
    }
   ],
   "source": [
    "X.head()"
   ]
  },
  {
   "cell_type": "markdown",
   "metadata": {},
   "source": [
    "# ワンホットエンコーディング"
   ]
  },
  {
   "cell_type": "markdown",
   "metadata": {},
   "source": [
    "- Pclass, Middle, SibSp -> ワンホットエンコーディング"
   ]
  },
  {
   "cell_type": "code",
   "execution_count": 11,
   "metadata": {},
   "outputs": [],
   "source": [
    "X = pd.get_dummies(X, columns=[\"Pclass\"])\n",
    "X = pd.get_dummies(X, columns=[\"Sex\"])\n",
    "X = pd.get_dummies(X, columns=[\"SibSp\"])\n",
    "X_test = pd.get_dummies(X_test, columns=[\"Pclass\"])\n",
    "X_test = pd.get_dummies(X_test, columns=[\"Sex\"])\n",
    "X_test = pd.get_dummies(X_test, columns=[\"SibSp\"])"
   ]
  },
  {
   "cell_type": "code",
   "execution_count": 12,
   "metadata": {
    "scrolled": true
   },
   "outputs": [
    {
     "data": {
      "text/html": [
       "<div>\n",
       "<style scoped>\n",
       "    .dataframe tbody tr th:only-of-type {\n",
       "        vertical-align: middle;\n",
       "    }\n",
       "\n",
       "    .dataframe tbody tr th {\n",
       "        vertical-align: top;\n",
       "    }\n",
       "\n",
       "    .dataframe thead th {\n",
       "        text-align: right;\n",
       "    }\n",
       "</style>\n",
       "<table border=\"1\" class=\"dataframe\">\n",
       "  <thead>\n",
       "    <tr style=\"text-align: right;\">\n",
       "      <th></th>\n",
       "      <th>Age</th>\n",
       "      <th>Parch</th>\n",
       "      <th>Fare</th>\n",
       "      <th>Pclass_1</th>\n",
       "      <th>Pclass_2</th>\n",
       "      <th>Pclass_3</th>\n",
       "      <th>Sex_Mr</th>\n",
       "      <th>Sex_female</th>\n",
       "      <th>Sex_notMr</th>\n",
       "      <th>SibSp_0</th>\n",
       "      <th>SibSp_1</th>\n",
       "      <th>SibSp_3</th>\n",
       "    </tr>\n",
       "  </thead>\n",
       "  <tbody>\n",
       "    <tr>\n",
       "      <th>0</th>\n",
       "      <td>22.0</td>\n",
       "      <td>0</td>\n",
       "      <td>7.2500</td>\n",
       "      <td>0</td>\n",
       "      <td>0</td>\n",
       "      <td>1</td>\n",
       "      <td>1</td>\n",
       "      <td>0</td>\n",
       "      <td>0</td>\n",
       "      <td>0</td>\n",
       "      <td>1</td>\n",
       "      <td>0</td>\n",
       "    </tr>\n",
       "    <tr>\n",
       "      <th>1</th>\n",
       "      <td>38.0</td>\n",
       "      <td>0</td>\n",
       "      <td>71.2833</td>\n",
       "      <td>1</td>\n",
       "      <td>0</td>\n",
       "      <td>0</td>\n",
       "      <td>0</td>\n",
       "      <td>1</td>\n",
       "      <td>0</td>\n",
       "      <td>0</td>\n",
       "      <td>1</td>\n",
       "      <td>0</td>\n",
       "    </tr>\n",
       "    <tr>\n",
       "      <th>2</th>\n",
       "      <td>26.0</td>\n",
       "      <td>0</td>\n",
       "      <td>7.9250</td>\n",
       "      <td>0</td>\n",
       "      <td>0</td>\n",
       "      <td>1</td>\n",
       "      <td>0</td>\n",
       "      <td>1</td>\n",
       "      <td>0</td>\n",
       "      <td>1</td>\n",
       "      <td>0</td>\n",
       "      <td>0</td>\n",
       "    </tr>\n",
       "    <tr>\n",
       "      <th>3</th>\n",
       "      <td>35.0</td>\n",
       "      <td>0</td>\n",
       "      <td>53.1000</td>\n",
       "      <td>1</td>\n",
       "      <td>0</td>\n",
       "      <td>0</td>\n",
       "      <td>0</td>\n",
       "      <td>1</td>\n",
       "      <td>0</td>\n",
       "      <td>0</td>\n",
       "      <td>1</td>\n",
       "      <td>0</td>\n",
       "    </tr>\n",
       "    <tr>\n",
       "      <th>4</th>\n",
       "      <td>35.0</td>\n",
       "      <td>0</td>\n",
       "      <td>8.0500</td>\n",
       "      <td>0</td>\n",
       "      <td>0</td>\n",
       "      <td>1</td>\n",
       "      <td>1</td>\n",
       "      <td>0</td>\n",
       "      <td>0</td>\n",
       "      <td>1</td>\n",
       "      <td>0</td>\n",
       "      <td>0</td>\n",
       "    </tr>\n",
       "  </tbody>\n",
       "</table>\n",
       "</div>"
      ],
      "text/plain": [
       "    Age  Parch     Fare  Pclass_1  Pclass_2  Pclass_3  Sex_Mr  Sex_female  \\\n",
       "0  22.0      0   7.2500         0         0         1       1           0   \n",
       "1  38.0      0  71.2833         1         0         0       0           1   \n",
       "2  26.0      0   7.9250         0         0         1       0           1   \n",
       "3  35.0      0  53.1000         1         0         0       0           1   \n",
       "4  35.0      0   8.0500         0         0         1       1           0   \n",
       "\n",
       "   Sex_notMr  SibSp_0  SibSp_1  SibSp_3  \n",
       "0          0        0        1        0  \n",
       "1          0        0        1        0  \n",
       "2          0        1        0        0  \n",
       "3          0        0        1        0  \n",
       "4          0        1        0        0  "
      ]
     },
     "execution_count": 12,
     "metadata": {},
     "output_type": "execute_result"
    }
   ],
   "source": [
    "X.head()"
   ]
  },
  {
   "cell_type": "markdown",
   "metadata": {},
   "source": [
    "# 標準化"
   ]
  },
  {
   "cell_type": "code",
   "execution_count": 13,
   "metadata": {},
   "outputs": [],
   "source": [
    "from sklearn.preprocessing import StandardScaler"
   ]
  },
  {
   "cell_type": "code",
   "execution_count": 14,
   "metadata": {},
   "outputs": [],
   "source": [
    "std = StandardScaler()\n",
    "X_std = std.fit_transform(X)\n",
    "X_test_std = std.fit_transform(X_test)"
   ]
  },
  {
   "cell_type": "code",
   "execution_count": 15,
   "metadata": {
    "scrolled": true
   },
   "outputs": [
    {
     "data": {
      "text/html": [
       "<div>\n",
       "<style scoped>\n",
       "    .dataframe tbody tr th:only-of-type {\n",
       "        vertical-align: middle;\n",
       "    }\n",
       "\n",
       "    .dataframe tbody tr th {\n",
       "        vertical-align: top;\n",
       "    }\n",
       "\n",
       "    .dataframe thead th {\n",
       "        text-align: right;\n",
       "    }\n",
       "</style>\n",
       "<table border=\"1\" class=\"dataframe\">\n",
       "  <thead>\n",
       "    <tr style=\"text-align: right;\">\n",
       "      <th></th>\n",
       "      <th>0</th>\n",
       "      <th>1</th>\n",
       "      <th>2</th>\n",
       "      <th>3</th>\n",
       "      <th>4</th>\n",
       "      <th>5</th>\n",
       "      <th>6</th>\n",
       "      <th>7</th>\n",
       "      <th>8</th>\n",
       "      <th>9</th>\n",
       "      <th>10</th>\n",
       "      <th>11</th>\n",
       "    </tr>\n",
       "  </thead>\n",
       "  <tbody>\n",
       "    <tr>\n",
       "      <th>0</th>\n",
       "      <td>-0.557497</td>\n",
       "      <td>-0.473674</td>\n",
       "      <td>-0.502445</td>\n",
       "      <td>-0.565685</td>\n",
       "      <td>-0.510152</td>\n",
       "      <td>0.902587</td>\n",
       "      <td>0.850532</td>\n",
       "      <td>-0.737695</td>\n",
       "      <td>-0.268705</td>\n",
       "      <td>-1.465746</td>\n",
       "      <td>1.806421</td>\n",
       "      <td>-0.300957</td>\n",
       "    </tr>\n",
       "    <tr>\n",
       "      <th>1</th>\n",
       "      <td>0.648492</td>\n",
       "      <td>-0.473674</td>\n",
       "      <td>0.786845</td>\n",
       "      <td>1.767767</td>\n",
       "      <td>-0.510152</td>\n",
       "      <td>-1.107926</td>\n",
       "      <td>-1.175735</td>\n",
       "      <td>1.355574</td>\n",
       "      <td>-0.268705</td>\n",
       "      <td>-1.465746</td>\n",
       "      <td>1.806421</td>\n",
       "      <td>-0.300957</td>\n",
       "    </tr>\n",
       "    <tr>\n",
       "      <th>2</th>\n",
       "      <td>-0.255999</td>\n",
       "      <td>-0.473674</td>\n",
       "      <td>-0.488854</td>\n",
       "      <td>-0.565685</td>\n",
       "      <td>-0.510152</td>\n",
       "      <td>0.902587</td>\n",
       "      <td>-1.175735</td>\n",
       "      <td>1.355574</td>\n",
       "      <td>-0.268705</td>\n",
       "      <td>0.682247</td>\n",
       "      <td>-0.553581</td>\n",
       "      <td>-0.300957</td>\n",
       "    </tr>\n",
       "    <tr>\n",
       "      <th>3</th>\n",
       "      <td>0.422369</td>\n",
       "      <td>-0.473674</td>\n",
       "      <td>0.420730</td>\n",
       "      <td>1.767767</td>\n",
       "      <td>-0.510152</td>\n",
       "      <td>-1.107926</td>\n",
       "      <td>-1.175735</td>\n",
       "      <td>1.355574</td>\n",
       "      <td>-0.268705</td>\n",
       "      <td>-1.465746</td>\n",
       "      <td>1.806421</td>\n",
       "      <td>-0.300957</td>\n",
       "    </tr>\n",
       "    <tr>\n",
       "      <th>4</th>\n",
       "      <td>0.422369</td>\n",
       "      <td>-0.473674</td>\n",
       "      <td>-0.486337</td>\n",
       "      <td>-0.565685</td>\n",
       "      <td>-0.510152</td>\n",
       "      <td>0.902587</td>\n",
       "      <td>0.850532</td>\n",
       "      <td>-0.737695</td>\n",
       "      <td>-0.268705</td>\n",
       "      <td>0.682247</td>\n",
       "      <td>-0.553581</td>\n",
       "      <td>-0.300957</td>\n",
       "    </tr>\n",
       "  </tbody>\n",
       "</table>\n",
       "</div>"
      ],
      "text/plain": [
       "         0         1         2         3         4         5         6   \\\n",
       "0 -0.557497 -0.473674 -0.502445 -0.565685 -0.510152  0.902587  0.850532   \n",
       "1  0.648492 -0.473674  0.786845  1.767767 -0.510152 -1.107926 -1.175735   \n",
       "2 -0.255999 -0.473674 -0.488854 -0.565685 -0.510152  0.902587 -1.175735   \n",
       "3  0.422369 -0.473674  0.420730  1.767767 -0.510152 -1.107926 -1.175735   \n",
       "4  0.422369 -0.473674 -0.486337 -0.565685 -0.510152  0.902587  0.850532   \n",
       "\n",
       "         7         8         9         10        11  \n",
       "0 -0.737695 -0.268705 -1.465746  1.806421 -0.300957  \n",
       "1  1.355574 -0.268705 -1.465746  1.806421 -0.300957  \n",
       "2  1.355574 -0.268705  0.682247 -0.553581 -0.300957  \n",
       "3  1.355574 -0.268705 -1.465746  1.806421 -0.300957  \n",
       "4 -0.737695 -0.268705  0.682247 -0.553581 -0.300957  "
      ]
     },
     "execution_count": 15,
     "metadata": {},
     "output_type": "execute_result"
    }
   ],
   "source": [
    "pd.DataFrame(X_std).head()"
   ]
  },
  {
   "cell_type": "markdown",
   "metadata": {},
   "source": [
    "# 正規化"
   ]
  },
  {
   "cell_type": "code",
   "execution_count": 16,
   "metadata": {},
   "outputs": [],
   "source": [
    "from sklearn.preprocessing import MinMaxScaler"
   ]
  },
  {
   "cell_type": "code",
   "execution_count": 17,
   "metadata": {},
   "outputs": [],
   "source": [
    "norm = MinMaxScaler()\n",
    "X_norm = norm.fit_transform(X)\n",
    "X_test_norm = norm.fit_transform(X_test)"
   ]
  },
  {
   "cell_type": "code",
   "execution_count": 18,
   "metadata": {},
   "outputs": [
    {
     "data": {
      "text/html": [
       "<div>\n",
       "<style scoped>\n",
       "    .dataframe tbody tr th:only-of-type {\n",
       "        vertical-align: middle;\n",
       "    }\n",
       "\n",
       "    .dataframe tbody tr th {\n",
       "        vertical-align: top;\n",
       "    }\n",
       "\n",
       "    .dataframe thead th {\n",
       "        text-align: right;\n",
       "    }\n",
       "</style>\n",
       "<table border=\"1\" class=\"dataframe\">\n",
       "  <thead>\n",
       "    <tr style=\"text-align: right;\">\n",
       "      <th></th>\n",
       "      <th>0</th>\n",
       "      <th>1</th>\n",
       "      <th>2</th>\n",
       "      <th>3</th>\n",
       "      <th>4</th>\n",
       "      <th>5</th>\n",
       "      <th>6</th>\n",
       "      <th>7</th>\n",
       "      <th>8</th>\n",
       "      <th>9</th>\n",
       "      <th>10</th>\n",
       "      <th>11</th>\n",
       "    </tr>\n",
       "  </thead>\n",
       "  <tbody>\n",
       "    <tr>\n",
       "      <th>0</th>\n",
       "      <td>0.271174</td>\n",
       "      <td>0.0</td>\n",
       "      <td>0.014151</td>\n",
       "      <td>0.0</td>\n",
       "      <td>0.0</td>\n",
       "      <td>1.0</td>\n",
       "      <td>1.0</td>\n",
       "      <td>0.0</td>\n",
       "      <td>0.0</td>\n",
       "      <td>0.0</td>\n",
       "      <td>1.0</td>\n",
       "      <td>0.0</td>\n",
       "    </tr>\n",
       "    <tr>\n",
       "      <th>1</th>\n",
       "      <td>0.472229</td>\n",
       "      <td>0.0</td>\n",
       "      <td>0.139136</td>\n",
       "      <td>1.0</td>\n",
       "      <td>0.0</td>\n",
       "      <td>0.0</td>\n",
       "      <td>0.0</td>\n",
       "      <td>1.0</td>\n",
       "      <td>0.0</td>\n",
       "      <td>0.0</td>\n",
       "      <td>1.0</td>\n",
       "      <td>0.0</td>\n",
       "    </tr>\n",
       "    <tr>\n",
       "      <th>2</th>\n",
       "      <td>0.321438</td>\n",
       "      <td>0.0</td>\n",
       "      <td>0.015469</td>\n",
       "      <td>0.0</td>\n",
       "      <td>0.0</td>\n",
       "      <td>1.0</td>\n",
       "      <td>0.0</td>\n",
       "      <td>1.0</td>\n",
       "      <td>0.0</td>\n",
       "      <td>1.0</td>\n",
       "      <td>0.0</td>\n",
       "      <td>0.0</td>\n",
       "    </tr>\n",
       "    <tr>\n",
       "      <th>3</th>\n",
       "      <td>0.434531</td>\n",
       "      <td>0.0</td>\n",
       "      <td>0.103644</td>\n",
       "      <td>1.0</td>\n",
       "      <td>0.0</td>\n",
       "      <td>0.0</td>\n",
       "      <td>0.0</td>\n",
       "      <td>1.0</td>\n",
       "      <td>0.0</td>\n",
       "      <td>0.0</td>\n",
       "      <td>1.0</td>\n",
       "      <td>0.0</td>\n",
       "    </tr>\n",
       "    <tr>\n",
       "      <th>4</th>\n",
       "      <td>0.434531</td>\n",
       "      <td>0.0</td>\n",
       "      <td>0.015713</td>\n",
       "      <td>0.0</td>\n",
       "      <td>0.0</td>\n",
       "      <td>1.0</td>\n",
       "      <td>1.0</td>\n",
       "      <td>0.0</td>\n",
       "      <td>0.0</td>\n",
       "      <td>1.0</td>\n",
       "      <td>0.0</td>\n",
       "      <td>0.0</td>\n",
       "    </tr>\n",
       "  </tbody>\n",
       "</table>\n",
       "</div>"
      ],
      "text/plain": [
       "         0    1         2    3    4    5    6    7    8    9    10   11\n",
       "0  0.271174  0.0  0.014151  0.0  0.0  1.0  1.0  0.0  0.0  0.0  1.0  0.0\n",
       "1  0.472229  0.0  0.139136  1.0  0.0  0.0  0.0  1.0  0.0  0.0  1.0  0.0\n",
       "2  0.321438  0.0  0.015469  0.0  0.0  1.0  0.0  1.0  0.0  1.0  0.0  0.0\n",
       "3  0.434531  0.0  0.103644  1.0  0.0  0.0  0.0  1.0  0.0  0.0  1.0  0.0\n",
       "4  0.434531  0.0  0.015713  0.0  0.0  1.0  1.0  0.0  0.0  1.0  0.0  0.0"
      ]
     },
     "execution_count": 18,
     "metadata": {},
     "output_type": "execute_result"
    }
   ],
   "source": [
    "pd.DataFrame(X_norm).head()"
   ]
  },
  {
   "cell_type": "markdown",
   "metadata": {},
   "source": [
    "### 4-fold cross validation, Grid Search"
   ]
  },
  {
   "cell_type": "code",
   "execution_count": 19,
   "metadata": {},
   "outputs": [],
   "source": [
    "from sklearn.model_selection import cross_val_score\n",
    "from sklearn.model_selection import GridSearchCV"
   ]
  },
  {
   "cell_type": "markdown",
   "metadata": {},
   "source": [
    "# RandomForest"
   ]
  },
  {
   "cell_type": "code",
   "execution_count": 20,
   "metadata": {},
   "outputs": [],
   "source": [
    "from sklearn.ensemble import RandomForestClassifier"
   ]
  },
  {
   "cell_type": "code",
   "execution_count": 21,
   "metadata": {},
   "outputs": [
    {
     "name": "stdout",
     "output_type": "stream",
     "text": [
      "Best score: 0.8338945005611672\n",
      "Best parameters: {'max_features': 7, 'min_samples_split': 10, 'n_estimators': 200}\n"
     ]
    }
   ],
   "source": [
    "def param():\n",
    "  ret = {\n",
    "      \"n_estimators\":[100, 200, 300],\n",
    "      \"max_features\": [3, 5, 7, 10],\n",
    "      \"min_samples_split\": [2, 10, 20],\n",
    "  }\n",
    "  return ret\n",
    "gscv = GridSearchCV(RandomForestClassifier(random_state=0), param(), cv=4)\n",
    "gscv.fit(X_std, y)\n",
    "\n",
    "print('Best score: {}'.format(gscv.best_score_))\n",
    "print('Best parameters: {}'.format(gscv.best_params_))"
   ]
  },
  {
   "cell_type": "code",
   "execution_count": 22,
   "metadata": {},
   "outputs": [
    {
     "name": "stdout",
     "output_type": "stream",
     "text": [
      "Cross-Validation scores: [0.81696429 0.86098655 0.83783784 0.82432432]\n",
      "Average score: 0.8350282487404124\n"
     ]
    }
   ],
   "source": [
    "rf = RandomForestClassifier(max_features=10, min_samples_split=10, n_estimators=200)\n",
    "scores = cross_val_score(rf, X_std, y, cv=4)\n",
    "print(\"Cross-Validation scores: {}\".format(scores))\n",
    "print(\"Average score: {}\".format(np.mean(scores)))"
   ]
  },
  {
   "cell_type": "markdown",
   "metadata": {},
   "source": [
    "# LogisticRegression"
   ]
  },
  {
   "cell_type": "code",
   "execution_count": 23,
   "metadata": {},
   "outputs": [],
   "source": [
    "from sklearn.linear_model import LogisticRegression"
   ]
  },
  {
   "cell_type": "code",
   "execution_count": 24,
   "metadata": {},
   "outputs": [
    {
     "name": "stdout",
     "output_type": "stream",
     "text": [
      "Best score: 0.8114478114478114\n",
      "Best parameters: {'C': 0.01}\n"
     ]
    }
   ],
   "source": [
    "def param():\n",
    "  ret = {\n",
    "      'C':[0.001, 0.01, 0.1, 1, 10, 100],\n",
    "  }\n",
    "  return ret\n",
    "gscv = GridSearchCV(LogisticRegression(solver='lbfgs', multi_class='auto', max_iter=10000), param(), cv=4)\n",
    "gscv.fit(X_std, y)\n",
    "\n",
    "print('Best score: {}'.format(gscv.best_score_))\n",
    "print('Best parameters: {}'.format(gscv.best_params_))"
   ]
  },
  {
   "cell_type": "code",
   "execution_count": 25,
   "metadata": {},
   "outputs": [
    {
     "name": "stdout",
     "output_type": "stream",
     "text": [
      "Cross-Validation scores: [0.80357143 0.84304933 0.78378378 0.7972973 ]\n",
      "Average score: 0.8069254592516925\n"
     ]
    }
   ],
   "source": [
    "lr = LogisticRegression(solver='lbfgs', multi_class='auto', max_iter=10000, C=0.1)\n",
    "scores = cross_val_score(lr, X_std, y, cv=4)\n",
    "print(\"Cross-Validation scores: {}\".format(scores))\n",
    "print(\"Average score: {}\".format(np.mean(scores)))"
   ]
  },
  {
   "cell_type": "markdown",
   "metadata": {},
   "source": [
    "# SVM"
   ]
  },
  {
   "cell_type": "code",
   "execution_count": 26,
   "metadata": {},
   "outputs": [],
   "source": [
    "from sklearn.svm import SVC"
   ]
  },
  {
   "cell_type": "code",
   "execution_count": 27,
   "metadata": {},
   "outputs": [
    {
     "name": "stdout",
     "output_type": "stream",
     "text": [
      "Best score: 0.8260381593714927\n",
      "Best parameters: {'C': 10, 'gamma': 0.01}\n"
     ]
    }
   ],
   "source": [
    "def param():\n",
    "  ret = {\n",
    "      'C':[0.001, 0.01, 0.1, 1, 10, 100],\n",
    "      'gamma':[0.001, 0.01, 0.1, 1, 10, 100]\n",
    "  }\n",
    "  return ret\n",
    "gscv = GridSearchCV(SVC(), param(), cv=4)\n",
    "gscv.fit(X_std, y)\n",
    "\n",
    "print('Best score: {}'.format(gscv.best_score_))\n",
    "print('Best parameters: {}'.format(gscv.best_params_))"
   ]
  },
  {
   "cell_type": "code",
   "execution_count": 28,
   "metadata": {},
   "outputs": [
    {
     "name": "stdout",
     "output_type": "stream",
     "text": [
      "Cross-Validation scores: [0.79910714 0.82959641 0.7972973  0.83783784]\n",
      "Average score: 0.8159596726370829\n"
     ]
    }
   ],
   "source": [
    "svm = SVC(C=1, gamma=0.1)\n",
    "scores = cross_val_score(svm, X_std, y, cv=4)\n",
    "print(\"Cross-Validation scores: {}\".format(scores))\n",
    "print(\"Average score: {}\".format(np.mean(scores)))"
   ]
  },
  {
   "cell_type": "markdown",
   "metadata": {},
   "source": [
    "# Decision Tree"
   ]
  },
  {
   "cell_type": "code",
   "execution_count": 29,
   "metadata": {},
   "outputs": [],
   "source": [
    "from sklearn.tree import DecisionTreeClassifier"
   ]
  },
  {
   "cell_type": "code",
   "execution_count": 30,
   "metadata": {},
   "outputs": [
    {
     "name": "stdout",
     "output_type": "stream",
     "text": [
      "Best score: 0.8114478114478114\n",
      "Best parameters: {'criterion': 'gini', 'max_depth': 10, 'max_features': 'log2', 'min_samples_leaf': 1, 'min_samples_split': 9}\n"
     ]
    }
   ],
   "source": [
    "def param():\n",
    "  ret = {\n",
    "      \"max_depth\": [2,4,6,8,10],\n",
    "      \"max_features\": ['log2', 'sqrt','auto'],\n",
    "      \"min_samples_split\": [3, 5, 7, 9],\n",
    "      \"min_samples_leaf\": [1,5,8],\n",
    "      \"criterion\": [\"gini\", \"entropy\"],\n",
    "  }\n",
    "  return ret\n",
    "gscv = GridSearchCV(DecisionTreeClassifier(random_state=0), param(), cv=4)\n",
    "gscv.fit(X_std, y)\n",
    "\n",
    "print('Best score: {}'.format(gscv.best_score_))\n",
    "print('Best parameters: {}'.format(gscv.best_params_))"
   ]
  },
  {
   "cell_type": "code",
   "execution_count": 31,
   "metadata": {},
   "outputs": [
    {
     "name": "stdout",
     "output_type": "stream",
     "text": [
      "Cross-Validation scores: [0.74553571 0.78923767 0.77927928 0.81081081]\n",
      "Average score: 0.7812158681343099\n"
     ]
    }
   ],
   "source": [
    "dt = DecisionTreeClassifier(criterion=\"gini\", max_depth=6, max_features=\"log2\", min_samples_split=7)\n",
    "scores = cross_val_score(dt, X_std, y, cv=4)\n",
    "print(\"Cross-Validation scores: {}\".format(scores))\n",
    "print(\"Average score: {}\".format(np.mean(scores)))"
   ]
  },
  {
   "cell_type": "markdown",
   "metadata": {},
   "source": [
    "# MLP"
   ]
  },
  {
   "cell_type": "code",
   "execution_count": 32,
   "metadata": {},
   "outputs": [],
   "source": [
    "from sklearn.neural_network import MLPClassifier"
   ]
  },
  {
   "cell_type": "code",
   "execution_count": 33,
   "metadata": {},
   "outputs": [
    {
     "name": "stderr",
     "output_type": "stream",
     "text": [
      "/Users/y_imagawa/.pyenv/versions/3.7.3/lib/python3.7/site-packages/sklearn/model_selection/_search.py:814: DeprecationWarning: The default of the `iid` parameter will change from True to False in version 0.22 and will be removed in 0.24. This will change numeric results when test-set sizes are unequal.\n",
      "  DeprecationWarning)\n"
     ]
    },
    {
     "name": "stdout",
     "output_type": "stream",
     "text": [
      "Best score: 0.8103254769921436\n",
      "Best parameters: {'activation': 'relu', 'batch_size': 100, 'hidden_layer_sizes': (400,)}\n"
     ]
    }
   ],
   "source": [
    "def param():\n",
    "  ret = {\n",
    "      \"hidden_layer_sizes\": [(200,), (300,), (400,), (500,)],\n",
    "      \"batch_size\": [20, 50, 100, 200],\n",
    "      \"activation\": [\"logistic\", \"tanh\", \"relu\"]\n",
    "  }\n",
    "  return ret\n",
    "gscv = GridSearchCV(MLPClassifier(max_iter=1000, early_stopping=True, random_state=0), param(), cv=4)\n",
    "gscv.fit(X_norm, y)\n",
    "\n",
    "print('Best score: {}'.format(gscv.best_score_))\n",
    "print('Best parameters: {}'.format(gscv.best_params_))"
   ]
  },
  {
   "cell_type": "code",
   "execution_count": 34,
   "metadata": {},
   "outputs": [
    {
     "name": "stdout",
     "output_type": "stream",
     "text": [
      "Best score: 0.8181818181818182\n",
      "Best parameters: {'activation': 'relu', 'batch_size': 20, 'hidden_layer_sizes': (200,)}\n"
     ]
    }
   ],
   "source": [
    "def param():\n",
    "  ret = {\n",
    "      \"hidden_layer_sizes\": [(200,), (300,), (400,), (500,)],\n",
    "      \"batch_size\": [20, 50, 100, 200],\n",
    "      \"activation\": [\"logistic\", \"tanh\", \"relu\"]\n",
    "  }\n",
    "  return ret\n",
    "gscv = GridSearchCV(MLPClassifier(max_iter=1000, early_stopping=True, random_state=0), param(), cv=4)\n",
    "gscv.fit(X_std, y)\n",
    "\n",
    "print('Best score: {}'.format(gscv.best_score_))\n",
    "print('Best parameters: {}'.format(gscv.best_params_))"
   ]
  },
  {
   "cell_type": "code",
   "execution_count": 35,
   "metadata": {},
   "outputs": [
    {
     "name": "stdout",
     "output_type": "stream",
     "text": [
      "Cross-Validation scores: [0.80357143 0.78026906 0.78378378 0.77027027]\n",
      "Average score: 0.7844736352303616\n"
     ]
    }
   ],
   "source": [
    "mlp = MLPClassifier(activation=\"relu\", batch_size=20, hidden_layer_sizes=(200,), max_iter=1000, early_stopping=True)\n",
    "scores = cross_val_score(dt, X_std, y, cv=4)\n",
    "print(\"Cross-Validation scores: {}\".format(scores))\n",
    "print(\"Average score: {}\".format(np.mean(scores)))"
   ]
  },
  {
   "cell_type": "markdown",
   "metadata": {},
   "source": [
    "# アンサンブル学習(Voting)"
   ]
  },
  {
   "cell_type": "code",
   "execution_count": 36,
   "metadata": {},
   "outputs": [],
   "source": [
    "from sklearn.ensemble import VotingClassifier"
   ]
  },
  {
   "cell_type": "code",
   "execution_count": 41,
   "metadata": {},
   "outputs": [
    {
     "name": "stdout",
     "output_type": "stream",
     "text": [
      "Cross-Validation scores: [0.79910714 0.82959641 0.7972973  0.82432432]\n",
      "Average score: 0.8125812942587045\n"
     ]
    }
   ],
   "source": [
    "vote_clf =  VotingClassifier([('lr', lr), ('svm', svm), ('dt', dt), ('mlp', mlp), ('rf', rf)], weights=[1, 1, 1, 1, 3])\n",
    "scores = cross_val_score(vote_clf, X_std, y, cv=4)\n",
    "print(\"Cross-Validation scores: {}\".format(scores))\n",
    "print(\"Average score: {}\".format(np.mean(scores)))"
   ]
  },
  {
   "cell_type": "code",
   "execution_count": 42,
   "metadata": {},
   "outputs": [
    {
     "name": "stdout",
     "output_type": "stream",
     "text": [
      "\n"
     ]
    }
   ],
   "source": [
    "vote_clf.fit(X_std, y)\n",
    "print()"
   ]
  },
  {
   "cell_type": "markdown",
   "metadata": {},
   "source": [
    "# 提出用ファイルを作成"
   ]
  },
  {
   "cell_type": "code",
   "execution_count": 43,
   "metadata": {},
   "outputs": [],
   "source": [
    "pred = vote_clf.predict(X_test_std)\n",
    "submit = pd.DataFrame({\"PassengerId\":test[\"PassengerId\"], \"Survived\":pred})\n",
    "submit.to_csv(\"gender_submission.csv\",index=False)"
   ]
  },
  {
   "cell_type": "markdown",
   "metadata": {},
   "source": [
    "# 結果"
   ]
  },
  {
   "cell_type": "markdown",
   "metadata": {},
   "source": [
    "78くらい(下がった)"
   ]
  },
  {
   "cell_type": "markdown",
   "metadata": {},
   "source": [
    "# 重要度をみてみる"
   ]
  },
  {
   "cell_type": "code",
   "execution_count": 44,
   "metadata": {},
   "outputs": [
    {
     "data": {
      "image/png": "[encoded data removed]",
      "text/plain": [
       "<Figure size 1440x720 with 1 Axes>"
      ]
     },
     "metadata": {
      "needs_background": "light"
     },
     "output_type": "display_data"
    }
   ],
   "source": [
    "rf.fit(X_std, y)\n",
    "feature = rf.feature_importances_\n",
    "plt.figure(figsize=(20, 10))\n",
    "plt.bar(range(len(feature)), feature, tick_label=X.columns)\n",
    "plt.show()"
   ]
  },
  {
   "cell_type": "code",
   "execution_count": null,
   "metadata": {},
   "outputs": [],
   "source": []
  }
 ],
 "metadata": {
  "kernelspec": {
   "display_name": "Python 3",
   "language": "python",
   "name": "python3"
  },
  "language_info": {
   "codemirror_mode": {
    "name": "ipython",
    "version": 3
   },
   "file_extension": ".py",
   "mimetype": "text/x-python",
   "name": "python",
   "nbconvert_exporter": "python",
   "pygments_lexer": "ipython3",
   "version": "3.7.3"
  }
 },
 "nbformat": 4,
 "nbformat_minor": 2
}
